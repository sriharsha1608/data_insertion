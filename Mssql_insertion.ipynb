{
 "cells": [
  {
   "cell_type": "code",
   "execution_count": 87,
   "id": "c62d6a74",
   "metadata": {},
   "outputs": [
    {
     "name": "stdout",
     "output_type": "stream",
     "text": [
      "hello\n"
     ]
    }
   ],
   "source": [
    "import pandas as pd\n",
    "import pymssql\n",
    "from tqdm import tqdm\n",
    "\n",
    "server = 'URL'\n",
    "database = 'DB'\n",
    "username = 'user'\n",
    "password = 'password'\n",
    "port = 1457\n",
    "\n",
    "conn = pymssql.connect(server=server, user=username, password=password, database=database, port=port)\n",
    "\n",
    "cursor = conn.cursor()\n",
    "\n",
    "df = pd.read_csv(\"data.csv\")\n",
    "df = df.fillna(' ')\n",
    "\n",
    "\n",
    "table_name = 'table_name'\n",
    "\n",
    "\n",
    "def chunks(lst, n):\n",
    "    for i in range(0, len(lst), n):\n",
    "        yield lst[i:i + n]\n",
    "\n",
    "def insert(query, data, conn, chunk=999):\n",
    "    cursor = conn.cursor()\n",
    "    query = query.lower()\n",
    "    insert_q, values_q = query.split('values') \n",
    "    insert_q += 'values' \n",
    "    for chunk_data in chunks(data, chunk):\n",
    "        flat_list = [item for sublist in chunk_data for item in sublist]\n",
    "        chunk_query = insert_q + ','.join([values_q] * len(chunk_data))\n",
    "        cursor.execute(chunk_query, tuple(flat_list))\n",
    "        conn.commit()\n",
    "                       \n",
    "                       \n",
    "                       \n",
    "total_rows = len(df)\n",
    "insert_query = f'''INSERT INTO {table_name} (id, funded_amount, loan_amount, activity, sector,\n",
    "                                            purpose, country_code, country, region, currency,\n",
    "                                            partner_id, term_in_months, lender_count, tags,borrower_gender,\n",
    "                                            repayment_interval, name, phone, interest, posted_time, disbursed_time, funded_time, date_a) \n",
    "                 VALUES (%s,%s,%s,%s,%s,%s,%s,%s,%s,%s,%s,%s,%s,%s,%s,%s,%s,%s,%s,%s,%s,%s,%s)'''\n",
    "\n",
    "                       \n",
    "insert(insert_query,df.values,conn,999)               \n",
    "\n",
    "\n",
    "\n",
    "cursor.close()\n",
    "conn.close()\n",
    "print(\"hello\")"
   ]
  }
 ],
 "metadata": {
  "kernelspec": {
   "display_name": "Python 3 (ipykernel)",
   "language": "python",
   "name": "python3"
  },
  "language_info": {
   "codemirror_mode": {
    "name": "ipython",
    "version": 3
   },
   "file_extension": ".py",
   "mimetype": "text/x-python",
   "name": "python",
   "nbconvert_exporter": "python",
   "pygments_lexer": "ipython3",
   "version": "3.10.9"
  }
 },
 "nbformat": 4,
 "nbformat_minor": 5
}
