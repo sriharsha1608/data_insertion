{
 "cells": [
  {
   "cell_type": "code",
   "execution_count": 4,
   "id": "f94a8bae-4304-481a-92c8-b9edde61aa99",
   "metadata": {},
   "outputs": [],
   "source": [
    "import pandas as pd\n",
    "import snowflake.connector as snow\n",
    "from snowflake.connector.pandas_tools import write_pandas"
   ]
  },
  {
   "cell_type": "code",
   "execution_count": 5,
   "id": "e32f3b66-1e1e-4809-aa6a-826b32b16ae6",
   "metadata": {},
   "outputs": [],
   "source": [
    "from snowflake.snowpark.functions import avg"
   ]
  },
  {
   "cell_type": "code",
   "execution_count": 6,
   "id": "2416aa60-1fe4-4577-a5cd-2c460c6b53c6",
   "metadata": {},
   "outputs": [],
   "source": [
    "conn = snow.connect(\n",
    "    user='user',\n",
    "    password='password',\n",
    "    account='account_url',\n",
    "    warehouse='warehousename',\n",
    "    database='DB',\n",
    "    schema='schema'\n",
    ")"
   ]
  },
  {
   "cell_type": "code",
   "execution_count": 7,
   "id": "a1a32bf0-489c-4e6f-8e7d-8205d6924559",
   "metadata": {},
   "outputs": [],
   "source": [
    "total = pd.read_csv('data.csv')"
   ]
  },
  {
   "cell_type": "code",
   "execution_count": 10,
   "id": "61039426-df8f-415f-885e-3c509f2a3e4d",
   "metadata": {},
   "outputs": [],
   "source": [
    "#trying to mapp column names exactly lo the name in db in UPPER case as it be in snowflake\n",
    "b=['TID', 'FUNDED_AMOUNT', 'LOAN_AMOUNT', 'ACTIVITY', 'SECTOR', 'PURPOSE', 'COUNTRY_CODE', 'COUNTRY', 'REGION', 'CURRENCY', 'PARTNER_ID', 'TERM_IN_MONTHS', 'LENDER_COUNT', 'TAGS', 'BORROWER_GENDER', 'REPAYMENT_INTERVAL', 'FULLNAME', 'PHONE', 'INTEREST', 'POSTED_TIME', 'DISBURSED_TIME', 'FUNDED_TIME', 'DATE_APP']\n",
    "column_name_mapping = dict(zip(total.columns, b))"
   ]
  },
  {
   "cell_type": "code",
   "execution_count": 11,
   "id": "be32f219-d207-446e-a626-db72bd4c3da2",
   "metadata": {},
   "outputs": [],
   "source": [
    "total.rename(columns=column_name_mapping, inplace=True)"
   ]
  },
  {
   "cell_type": "code",
   "execution_count": 12,
   "id": "cbc834ac-cc54-40e8-a1c1-3fb23f5e7705",
   "metadata": {},
   "outputs": [
    {
     "name": "stdout",
     "output_type": "stream",
     "text": [
      "Data successfully inserted into Snowflake.\n"
     ]
    }
   ],
   "source": [
    "try:\n",
    "    with conn.cursor() as cursor:\n",
    "        \n",
    "        write_pandas(conn, total, \"Table_name\")\n",
    "        \n",
    "        conn.commit()\n",
    "    print(\"Data successfully inserted into Snowflake.\")\n",
    "except snow.errors.ProgrammingError as e:\n",
    "    print(\"Error:\", e)\n"
   ]
  },
  {
   "cell_type": "code",
   "execution_count": 38,
   "id": "e8c1d660-e79b-4bf1-b23c-54f8a094a8bc",
   "metadata": {},
   "outputs": [],
   "source": [
    "conn.close()"
   ]
  },
  {
   "cell_type": "code",
   "execution_count": null,
   "id": "46f247ed-e119-41a9-af5a-7d49749841ac",
   "metadata": {},
   "outputs": [],
   "source": []
  }
 ],
 "metadata": {
  "kernelspec": {
   "display_name": "Python 3 (ipykernel)",
   "language": "python",
   "name": "python3"
  },
  "language_info": {
   "codemirror_mode": {
    "name": "ipython",
    "version": 3
   },
   "file_extension": ".py",
   "mimetype": "text/x-python",
   "name": "python",
   "nbconvert_exporter": "python",
   "pygments_lexer": "ipython3",
   "version": "3.10.12"
  }
 },
 "nbformat": 4,
 "nbformat_minor": 5
}
